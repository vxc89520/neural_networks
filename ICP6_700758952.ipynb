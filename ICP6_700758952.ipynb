{
 "cells": [
  {
   "cell_type": "code",
   "execution_count": 2,
   "metadata": {
    "id": "xx2H_QhlQiq_"
   },
   "outputs": [],
   "source": [
    "import pandas as pd #Basic packages for creating dataframes and loading dataset\n",
    "import numpy as np\n",
    "\n",
    "import matplotlib.pyplot as plt #Package for visualization\n",
    "\n",
    "import re #importing package for Regular expression operations\n",
    "\n",
    "from sklearn.model_selection import train_test_split #Package for splitting the data\n",
    "\n",
    "from sklearn.preprocessing import LabelEncoder #Package for conversion of categorical to Numerical\n",
    "\n",
    "from keras.preprocessing.text import Tokenizer #Tokenization\n",
    "from tensorflow.keras.preprocessing.sequence import pad_sequences #Add zeros or crop based on the length\n",
    "from keras.models import Sequential #Sequential Neural Network\n",
    "from keras.layers import Dense, Embedding, LSTM, SpatialDropout1D #For layers in Neural Network\n",
    "from keras.utils import to_categorical"
   ]
  },
  {
   "cell_type": "code",
   "execution_count": 2,
   "metadata": {
    "colab": {
     "base_uri": "https://localhost:8080/"
    },
    "id": "lrzDosSiW1W6",
    "outputId": "0d61e7f8-4487-4f4a-c8df-d7f05d07423a"
   },
   "outputs": [
    {
     "name": "stdout",
     "output_type": "stream",
     "text": [
      "Mounted at /content/gdrive\n"
     ]
    }
   ],
   "source": [
    "from google.colab import drive\n",
    "drive.mount('/content/gdrive')"
   ]
  },
  {
   "cell_type": "code",
   "execution_count": 3,
   "metadata": {
    "id": "ssh151DeW8J8"
   },
   "outputs": [],
   "source": [
    "import pandas as pd\n",
    "\n",
    "# Load the dataset as a Pandas DataFrame\n",
    "dataset = pd.read_csv(\"/content/gdrive/MyDrive/Sentiment (3) (2).csv\", header=0)\n",
    "\n",
    "# Select only the necessary columns 'text' and 'sentiment'\n",
    "mask = dataset.columns.isin(['text', 'sentiment'])\n",
    "data = dataset.loc[:, mask]\n",
    "\n",
    "# Keeping only the necessary columns"
   ]
  },
  {
   "cell_type": "code",
   "execution_count": 4,
   "metadata": {
    "id": "WHmFHaC7XBYj"
   },
   "outputs": [],
   "source": [
    "data.loc[:, 'text'] = data['text'].apply(lambda x: x.lower())\n",
    "data.loc[:, 'text'] = data['text'].apply(lambda x: re.sub('[^a-zA-Z0-9\\s]', '', x))"
   ]
  },
  {
   "cell_type": "code",
   "execution_count": 5,
   "metadata": {
    "id": "oDUxEpZnXGgq"
   },
   "outputs": [],
   "source": [
    "for idx, row in data.iterrows():\n",
    "    row[0] = row[0].replace('rt', ' ') #Removing Retweets"
   ]
  },
  {
   "cell_type": "code",
   "execution_count": 6,
   "metadata": {
    "id": "f1aj6iPqXKV-"
   },
   "outputs": [],
   "source": [
    "max_fatures = 2000\n",
    "tokenizer = Tokenizer(num_words=max_fatures, split=' ') #Maximum words is 2000 to tokenize sentence\n",
    "tokenizer.fit_on_texts(data['text'].values)\n",
    "X = tokenizer.texts_to_sequences(data['text'].values) #taking values to feature matrix"
   ]
  },
  {
   "cell_type": "code",
   "execution_count": 7,
   "metadata": {
    "id": "fhEWPh_qXRuQ"
   },
   "outputs": [],
   "source": [
    "X = pad_sequences(X) #Padding the feature matrix\n",
    "\n",
    "embed_dim = 128 #Dimension of the Embedded layer\n",
    "lstm_out = 196 #Long short-term memory (LSTM) layer neurons"
   ]
  },
  {
   "cell_type": "code",
   "execution_count": 8,
   "metadata": {
    "id": "hp2CTBFwXZc9"
   },
   "outputs": [],
   "source": [
    "def createmodel():\n",
    "    model = Sequential() #Sequential Neural Network\n",
    "    model.add(Embedding(max_fatures, embed_dim,input_length = X.shape[1])) #input dimension 2000 Neurons, output dimension 128 Neurons\n",
    "    model.add(LSTM(lstm_out, dropout=0.2, recurrent_dropout=0.2)) #Drop out 20%, 196 output Neurons, recurrent dropout 20%\n",
    "    model.add(Dense(3,activation='softmax')) #3 output neurons[positive, Neutral, Negative], softmax as activation\n",
    "    model.compile(loss = 'categorical_crossentropy', optimizer='adam',metrics = ['accuracy']) #Compiling the model\n",
    "    return model\n",
    "# print(model.summary())"
   ]
  },
  {
   "cell_type": "code",
   "execution_count": 9,
   "metadata": {
    "id": "DXdtKGWkXdjY"
   },
   "outputs": [],
   "source": [
    "labelencoder = LabelEncoder() #Applying label Encoding on the label matrix\n",
    "integer_encoded = labelencoder.fit_transform(data['sentiment']) #fitting the model\n",
    "y = to_categorical(integer_encoded)\n",
    "X_train, X_test, Y_train, Y_test = train_test_split(X,y, test_size = 0.33, random_state = 42) #67% training data, 33% test data split\n"
   ]
  },
  {
   "cell_type": "code",
   "execution_count": 10,
   "metadata": {
    "colab": {
     "base_uri": "https://localhost:8080/"
    },
    "id": "jN2wtmrNXetx",
    "outputId": "426a5cbc-5c94-48aa-f64e-35b6cea3bee4"
   },
   "outputs": [
    {
     "name": "stdout",
     "output_type": "stream",
     "text": [
      "291/291 - 60s - loss: 0.8264 - accuracy: 0.6448 - 60s/epoch - 205ms/step\n",
      "144/144 - 3s - loss: 0.7498 - accuracy: 0.6689 - 3s/epoch - 23ms/step\n",
      "0.7498379349708557\n",
      "0.6688510179519653\n"
     ]
    }
   ],
   "source": [
    "batch_size = 32 #Batch size 32\n",
    "model = createmodel() #Function call to Sequential Neural Network\n",
    "model.fit(X_train, Y_train, epochs = 1, batch_size=batch_size, verbose = 2) #verbose the higher, the more messages\n",
    "score,acc = model.evaluate(X_test,Y_test,verbose=2,batch_size=batch_size) #evaluating the model\n",
    "print(score)\n",
    "print(acc)"
   ]
  },
  {
   "cell_type": "code",
   "execution_count": 11,
   "metadata": {
    "colab": {
     "base_uri": "https://localhost:8080/"
    },
    "id": "rqUpz55XYBbq",
    "outputId": "dd23d46c-cd26-4d1f-f89b-f676ea05d92f"
   },
   "outputs": [
    {
     "name": "stdout",
     "output_type": "stream",
     "text": [
      "['loss', 'accuracy']\n"
     ]
    }
   ],
   "source": [
    "print(model.metrics_names) #metrics of the model"
   ]
  },
  {
   "cell_type": "markdown",
   "metadata": {
    "id": "HpDqpLZhYHU9"
   },
   "source": []
  },
  {
   "cell_type": "markdown",
   "metadata": {
    "id": "Hzsr98f6Sa6G"
   },
   "source": [
    "1. Save the model and use the saved model to predict on new text data (ex, “A lot of good things are happening. We are respected again throughout the world, and that's a great thing.@realDonaldTrump”)"
   ]
  },
  {
   "cell_type": "code",
   "execution_count": 12,
   "metadata": {
    "id": "9hpVk1MZSfap"
   },
   "outputs": [],
   "source": [
    "model.save('sentimentAnalysis.h5') #Saving the model\n"
   ]
  },
  {
   "cell_type": "code",
   "execution_count": 13,
   "metadata": {
    "id": "99I0k348YR0W"
   },
   "outputs": [],
   "source": [
    "from keras.models import load_model #Importing the package for importing the saved model\n",
    "model= load_model('sentimentAnalysis.h5') #loading the saved model"
   ]
  },
  {
   "cell_type": "code",
   "execution_count": 14,
   "metadata": {
    "colab": {
     "base_uri": "https://localhost:8080/"
    },
    "id": "eBYkKf1ISs9I",
    "outputId": "94e4a174-cd7d-400e-c64e-c7074fc6c5bf"
   },
   "outputs": [
    {
     "name": "stdout",
     "output_type": "stream",
     "text": [
      "[1 2 1 ... 2 0 2]\n",
      "0         Neutral\n",
      "1        Positive\n",
      "2         Neutral\n",
      "3        Positive\n",
      "4        Positive\n",
      "           ...   \n",
      "13866    Negative\n",
      "13867    Positive\n",
      "13868    Positive\n",
      "13869    Negative\n",
      "13870    Positive\n",
      "Name: sentiment, Length: 13871, dtype: object\n"
     ]
    }
   ],
   "source": [
    "print(integer_encoded)\n",
    "print(data['sentiment'])"
   ]
  },
  {
   "cell_type": "code",
   "execution_count": 15,
   "metadata": {
    "colab": {
     "base_uri": "https://localhost:8080/"
    },
    "id": "4U8QNwtAYa-I",
    "outputId": "9bc13e2c-f912-466c-efc6-cd666334a8af"
   },
   "outputs": [
    {
     "name": "stdout",
     "output_type": "stream",
     "text": [
      "1/1 - 0s - 335ms/epoch - 335ms/step\n",
      "[0.5661933  0.11436861 0.319438  ]\n",
      "Neutral\n"
     ]
    }
   ],
   "source": [
    "# Predicting on the text data\n",
    "sentence = ['A lot of good things are happening. We are respected again throughout the world, and that is a great thing.@realDonaldTrump']\n",
    "sentence = tokenizer.texts_to_sequences(sentence) # Tokenizing the sentence\n",
    "sentence = pad_sequences(sentence, maxlen=28, dtype='int32', value=0) # Padding the sentence\n",
    "sentiment_probs = model.predict(sentence, batch_size=1, verbose=2)[0] # Predicting the sentence text\n",
    "sentiment = np.argmax(sentiment_probs)\n",
    "\n",
    "print(sentiment_probs)\n",
    "if sentiment == 0:\n",
    "    print(\"Neutral\")\n",
    "elif sentiment < 0:\n",
    "    print(\"Negative\")\n",
    "elif sentiment > 0:\n",
    "    print(\"Positive\")\n",
    "else:\n",
    "    print(\"Cannot be determined\")"
   ]
  },
  {
   "cell_type": "markdown",
   "metadata": {
    "id": "1KNaNXLeYl6V"
   },
   "source": [
    "2.Apply GridSearchCV on the source code provided in the class"
   ]
  },
  {
   "cell_type": "code",
   "execution_count": 1,
   "metadata": {
    "colab": {
     "base_uri": "https://localhost:8080/"
    },
    "id": "oiwtPopSZIED",
    "outputId": "fa84494e-2b6a-4bc6-ac15-942e56071408"
   },
   "outputs": [
    {
     "name": "stdout",
     "output_type": "stream",
     "text": [
      "Requirement already satisfied: tensorflow==2.12.0 in /usr/local/lib/python3.10/dist-packages (2.12.0)\n",
      "Requirement already satisfied: keras==2.12.0 in /usr/local/lib/python3.10/dist-packages (2.12.0)\n",
      "Requirement already satisfied: scikeras==0.11.0 in /usr/local/lib/python3.10/dist-packages (0.11.0)\n",
      "Requirement already satisfied: absl-py>=1.0.0 in /usr/local/lib/python3.10/dist-packages (from tensorflow==2.12.0) (1.4.0)\n",
      "Requirement already satisfied: astunparse>=1.6.0 in /usr/local/lib/python3.10/dist-packages (from tensorflow==2.12.0) (1.6.3)\n",
      "Requirement already satisfied: flatbuffers>=2.0 in /usr/local/lib/python3.10/dist-packages (from tensorflow==2.12.0) (24.3.25)\n",
      "Requirement already satisfied: gast<=0.4.0,>=0.2.1 in /usr/local/lib/python3.10/dist-packages (from tensorflow==2.12.0) (0.4.0)\n",
      "Requirement already satisfied: google-pasta>=0.1.1 in /usr/local/lib/python3.10/dist-packages (from tensorflow==2.12.0) (0.2.0)\n",
      "Requirement already satisfied: grpcio<2.0,>=1.24.3 in /usr/local/lib/python3.10/dist-packages (from tensorflow==2.12.0) (1.64.1)\n",
      "Requirement already satisfied: h5py>=2.9.0 in /usr/local/lib/python3.10/dist-packages (from tensorflow==2.12.0) (3.9.0)\n",
      "Requirement already satisfied: jax>=0.3.15 in /usr/local/lib/python3.10/dist-packages (from tensorflow==2.12.0) (0.4.26)\n",
      "Requirement already satisfied: libclang>=13.0.0 in /usr/local/lib/python3.10/dist-packages (from tensorflow==2.12.0) (18.1.1)\n",
      "Requirement already satisfied: numpy<1.24,>=1.22 in /usr/local/lib/python3.10/dist-packages (from tensorflow==2.12.0) (1.23.5)\n",
      "Requirement already satisfied: opt-einsum>=2.3.2 in /usr/local/lib/python3.10/dist-packages (from tensorflow==2.12.0) (3.3.0)\n",
      "Requirement already satisfied: packaging in /usr/local/lib/python3.10/dist-packages (from tensorflow==2.12.0) (24.1)\n",
      "Requirement already satisfied: protobuf!=4.21.0,!=4.21.1,!=4.21.2,!=4.21.3,!=4.21.4,!=4.21.5,<5.0.0dev,>=3.20.3 in /usr/local/lib/python3.10/dist-packages (from tensorflow==2.12.0) (3.20.3)\n",
      "Requirement already satisfied: setuptools in /usr/local/lib/python3.10/dist-packages (from tensorflow==2.12.0) (67.7.2)\n",
      "Requirement already satisfied: six>=1.12.0 in /usr/local/lib/python3.10/dist-packages (from tensorflow==2.12.0) (1.16.0)\n",
      "Requirement already satisfied: tensorboard<2.13,>=2.12 in /usr/local/lib/python3.10/dist-packages (from tensorflow==2.12.0) (2.12.3)\n",
      "Requirement already satisfied: tensorflow-estimator<2.13,>=2.12.0 in /usr/local/lib/python3.10/dist-packages (from tensorflow==2.12.0) (2.12.0)\n",
      "Requirement already satisfied: termcolor>=1.1.0 in /usr/local/lib/python3.10/dist-packages (from tensorflow==2.12.0) (2.4.0)\n",
      "Requirement already satisfied: typing-extensions>=3.6.6 in /usr/local/lib/python3.10/dist-packages (from tensorflow==2.12.0) (4.12.2)\n",
      "Requirement already satisfied: wrapt<1.15,>=1.11.0 in /usr/local/lib/python3.10/dist-packages (from tensorflow==2.12.0) (1.14.1)\n",
      "Requirement already satisfied: tensorflow-io-gcs-filesystem>=0.23.1 in /usr/local/lib/python3.10/dist-packages (from tensorflow==2.12.0) (0.37.1)\n",
      "Requirement already satisfied: scikit-learn>=1.0.0 in /usr/local/lib/python3.10/dist-packages (from scikeras==0.11.0) (1.2.2)\n",
      "Requirement already satisfied: wheel<1.0,>=0.23.0 in /usr/local/lib/python3.10/dist-packages (from astunparse>=1.6.0->tensorflow==2.12.0) (0.43.0)\n",
      "Requirement already satisfied: ml-dtypes>=0.2.0 in /usr/local/lib/python3.10/dist-packages (from jax>=0.3.15->tensorflow==2.12.0) (0.2.0)\n",
      "Requirement already satisfied: scipy>=1.9 in /usr/local/lib/python3.10/dist-packages (from jax>=0.3.15->tensorflow==2.12.0) (1.11.4)\n",
      "Requirement already satisfied: joblib>=1.1.1 in /usr/local/lib/python3.10/dist-packages (from scikit-learn>=1.0.0->scikeras==0.11.0) (1.4.2)\n",
      "Requirement already satisfied: threadpoolctl>=2.0.0 in /usr/local/lib/python3.10/dist-packages (from scikit-learn>=1.0.0->scikeras==0.11.0) (3.5.0)\n",
      "Requirement already satisfied: google-auth<3,>=1.6.3 in /usr/local/lib/python3.10/dist-packages (from tensorboard<2.13,>=2.12->tensorflow==2.12.0) (2.27.0)\n",
      "Requirement already satisfied: google-auth-oauthlib<1.1,>=0.5 in /usr/local/lib/python3.10/dist-packages (from tensorboard<2.13,>=2.12->tensorflow==2.12.0) (1.0.0)\n",
      "Requirement already satisfied: markdown>=2.6.8 in /usr/local/lib/python3.10/dist-packages (from tensorboard<2.13,>=2.12->tensorflow==2.12.0) (3.6)\n",
      "Requirement already satisfied: requests<3,>=2.21.0 in /usr/local/lib/python3.10/dist-packages (from tensorboard<2.13,>=2.12->tensorflow==2.12.0) (2.31.0)\n",
      "Requirement already satisfied: tensorboard-data-server<0.8.0,>=0.7.0 in /usr/local/lib/python3.10/dist-packages (from tensorboard<2.13,>=2.12->tensorflow==2.12.0) (0.7.2)\n",
      "Requirement already satisfied: werkzeug>=1.0.1 in /usr/local/lib/python3.10/dist-packages (from tensorboard<2.13,>=2.12->tensorflow==2.12.0) (3.0.3)\n",
      "Requirement already satisfied: cachetools<6.0,>=2.0.0 in /usr/local/lib/python3.10/dist-packages (from google-auth<3,>=1.6.3->tensorboard<2.13,>=2.12->tensorflow==2.12.0) (5.4.0)\n",
      "Requirement already satisfied: pyasn1-modules>=0.2.1 in /usr/local/lib/python3.10/dist-packages (from google-auth<3,>=1.6.3->tensorboard<2.13,>=2.12->tensorflow==2.12.0) (0.4.0)\n",
      "Requirement already satisfied: rsa<5,>=3.1.4 in /usr/local/lib/python3.10/dist-packages (from google-auth<3,>=1.6.3->tensorboard<2.13,>=2.12->tensorflow==2.12.0) (4.9)\n",
      "Requirement already satisfied: requests-oauthlib>=0.7.0 in /usr/local/lib/python3.10/dist-packages (from google-auth-oauthlib<1.1,>=0.5->tensorboard<2.13,>=2.12->tensorflow==2.12.0) (1.3.1)\n",
      "Requirement already satisfied: charset-normalizer<4,>=2 in /usr/local/lib/python3.10/dist-packages (from requests<3,>=2.21.0->tensorboard<2.13,>=2.12->tensorflow==2.12.0) (3.3.2)\n",
      "Requirement already satisfied: idna<4,>=2.5 in /usr/local/lib/python3.10/dist-packages (from requests<3,>=2.21.0->tensorboard<2.13,>=2.12->tensorflow==2.12.0) (3.7)\n",
      "Requirement already satisfied: urllib3<3,>=1.21.1 in /usr/local/lib/python3.10/dist-packages (from requests<3,>=2.21.0->tensorboard<2.13,>=2.12->tensorflow==2.12.0) (2.0.7)\n",
      "Requirement already satisfied: certifi>=2017.4.17 in /usr/local/lib/python3.10/dist-packages (from requests<3,>=2.21.0->tensorboard<2.13,>=2.12->tensorflow==2.12.0) (2024.7.4)\n",
      "Requirement already satisfied: MarkupSafe>=2.1.1 in /usr/local/lib/python3.10/dist-packages (from werkzeug>=1.0.1->tensorboard<2.13,>=2.12->tensorflow==2.12.0) (2.1.5)\n",
      "Requirement already satisfied: pyasn1<0.7.0,>=0.4.6 in /usr/local/lib/python3.10/dist-packages (from pyasn1-modules>=0.2.1->google-auth<3,>=1.6.3->tensorboard<2.13,>=2.12->tensorflow==2.12.0) (0.6.0)\n",
      "Requirement already satisfied: oauthlib>=3.0.0 in /usr/local/lib/python3.10/dist-packages (from requests-oauthlib>=0.7.0->google-auth-oauthlib<1.1,>=0.5->tensorboard<2.13,>=2.12->tensorflow==2.12.0) (3.2.2)\n"
     ]
    }
   ],
   "source": [
    "pip install tensorflow==2.12.0 keras==2.12.0 scikeras==0.11.0"
   ]
  },
  {
   "cell_type": "code",
   "execution_count": 16,
   "metadata": {
    "colab": {
     "base_uri": "https://localhost:8080/"
    },
    "id": "ex3JYLaSZ67D",
    "outputId": "ea00e4e4-33e1-4a1e-df9f-cec5406ae4c0"
   },
   "outputs": [
    {
     "name": "stderr",
     "output_type": "stream",
     "text": [
      "<ipython-input-16-139d1994cb8f>:4: DeprecationWarning: KerasClassifier is deprecated, use Sci-Keras (https://github.com/adriangb/scikeras) instead. See https://www.adriangb.com/scikeras/stable/migration.html for help migrating.\n",
      "  model = KerasClassifier(build_fn=createmodel,verbose=2) #initiating model to test performance by applying multiple hyper parameters\n"
     ]
    },
    {
     "name": "stdout",
     "output_type": "stream",
     "text": [
      "744/744 - 117s - loss: 0.8191 - accuracy: 0.6466 - 117s/epoch - 158ms/step\n",
      "186/186 - 4s - loss: 0.7520 - accuracy: 0.6740 - 4s/epoch - 20ms/step\n",
      "744/744 - 117s - loss: 0.8144 - accuracy: 0.6515 - 117s/epoch - 157ms/step\n",
      "186/186 - 3s - loss: 0.7639 - accuracy: 0.6772 - 3s/epoch - 15ms/step\n",
      "744/744 - 119s - loss: 0.8226 - accuracy: 0.6457 - 119s/epoch - 159ms/step\n",
      "186/186 - 3s - loss: 0.7727 - accuracy: 0.6778 - 3s/epoch - 15ms/step\n",
      "744/744 - 121s - loss: 0.8284 - accuracy: 0.6483 - 121s/epoch - 162ms/step\n",
      "186/186 - 4s - loss: 0.7408 - accuracy: 0.6878 - 4s/epoch - 22ms/step\n",
      "744/744 - 117s - loss: 0.8233 - accuracy: 0.6459 - 117s/epoch - 158ms/step\n",
      "186/186 - 4s - loss: 0.7796 - accuracy: 0.6814 - 4s/epoch - 24ms/step\n",
      "Epoch 1/2\n",
      "744/744 - 122s - loss: 0.8273 - accuracy: 0.6466 - 122s/epoch - 163ms/step\n",
      "Epoch 2/2\n",
      "744/744 - 116s - loss: 0.6827 - accuracy: 0.7077 - 116s/epoch - 156ms/step\n",
      "186/186 - 5s - loss: 0.7390 - accuracy: 0.6676 - 5s/epoch - 26ms/step\n",
      "Epoch 1/2\n",
      "744/744 - 116s - loss: 0.8197 - accuracy: 0.6482 - 116s/epoch - 156ms/step\n",
      "Epoch 2/2\n",
      "744/744 - 110s - loss: 0.6823 - accuracy: 0.7097 - 110s/epoch - 149ms/step\n",
      "186/186 - 3s - loss: 0.7354 - accuracy: 0.6767 - 3s/epoch - 15ms/step\n",
      "Epoch 1/2\n",
      "744/744 - 112s - loss: 0.8278 - accuracy: 0.6449 - 112s/epoch - 151ms/step\n",
      "Epoch 2/2\n",
      "744/744 - 118s - loss: 0.6825 - accuracy: 0.7092 - 118s/epoch - 158ms/step\n",
      "186/186 - 3s - loss: 0.7483 - accuracy: 0.6912 - 3s/epoch - 15ms/step\n",
      "Epoch 1/2\n",
      "744/744 - 119s - loss: 0.8261 - accuracy: 0.6434 - 119s/epoch - 160ms/step\n",
      "Epoch 2/2\n",
      "744/744 - 120s - loss: 0.6769 - accuracy: 0.7163 - 120s/epoch - 161ms/step\n",
      "186/186 - 3s - loss: 0.7483 - accuracy: 0.6679 - 3s/epoch - 16ms/step\n",
      "Epoch 1/2\n",
      "744/744 - 118s - loss: 0.8152 - accuracy: 0.6483 - 118s/epoch - 159ms/step\n",
      "Epoch 2/2\n",
      "744/744 - 114s - loss: 0.6651 - accuracy: 0.7170 - 114s/epoch - 153ms/step\n",
      "186/186 - 3s - loss: 0.7790 - accuracy: 0.6615 - 3s/epoch - 15ms/step\n",
      "372/372 - 76s - loss: 0.8293 - accuracy: 0.6442 - 76s/epoch - 205ms/step\n",
      "93/93 - 4s - loss: 0.7533 - accuracy: 0.6697 - 4s/epoch - 44ms/step\n",
      "372/372 - 79s - loss: 0.8301 - accuracy: 0.6454 - 79s/epoch - 211ms/step\n",
      "93/93 - 2s - loss: 0.7770 - accuracy: 0.6767 - 2s/epoch - 23ms/step\n",
      "372/372 - 67s - loss: 0.8330 - accuracy: 0.6468 - 67s/epoch - 180ms/step\n",
      "93/93 - 2s - loss: 0.7747 - accuracy: 0.6676 - 2s/epoch - 21ms/step\n",
      "372/372 - 64s - loss: 0.8327 - accuracy: 0.6393 - 64s/epoch - 173ms/step\n",
      "93/93 - 2s - loss: 0.7490 - accuracy: 0.6738 - 2s/epoch - 20ms/step\n",
      "372/372 - 66s - loss: 0.8266 - accuracy: 0.6426 - 66s/epoch - 179ms/step\n",
      "93/93 - 2s - loss: 0.7988 - accuracy: 0.6550 - 2s/epoch - 26ms/step\n",
      "Epoch 1/2\n",
      "372/372 - 69s - loss: 0.8339 - accuracy: 0.6430 - 69s/epoch - 185ms/step\n",
      "Epoch 2/2\n",
      "372/372 - 67s - loss: 0.6840 - accuracy: 0.7100 - 67s/epoch - 180ms/step\n",
      "93/93 - 2s - loss: 0.7214 - accuracy: 0.6928 - 2s/epoch - 23ms/step\n",
      "Epoch 1/2\n",
      "372/372 - 72s - loss: 0.8279 - accuracy: 0.6481 - 72s/epoch - 194ms/step\n",
      "Epoch 2/2\n",
      "372/372 - 64s - loss: 0.6811 - accuracy: 0.7113 - 64s/epoch - 172ms/step\n",
      "93/93 - 2s - loss: 0.7375 - accuracy: 0.6848 - 2s/epoch - 22ms/step\n",
      "Epoch 1/2\n",
      "372/372 - 67s - loss: 0.8310 - accuracy: 0.6427 - 67s/epoch - 181ms/step\n",
      "Epoch 2/2\n",
      "372/372 - 64s - loss: 0.6787 - accuracy: 0.7085 - 64s/epoch - 173ms/step\n",
      "93/93 - 3s - loss: 0.7526 - accuracy: 0.6740 - 3s/epoch - 36ms/step\n",
      "Epoch 1/2\n",
      "372/372 - 76s - loss: 0.8280 - accuracy: 0.6434 - 76s/epoch - 204ms/step\n",
      "Epoch 2/2\n",
      "372/372 - 70s - loss: 0.6703 - accuracy: 0.7161 - 70s/epoch - 187ms/step\n",
      "93/93 - 4s - loss: 0.7465 - accuracy: 0.6841 - 4s/epoch - 40ms/step\n",
      "Epoch 1/2\n",
      "372/372 - 71s - loss: 0.8245 - accuracy: 0.6426 - 71s/epoch - 191ms/step\n",
      "Epoch 2/2\n",
      "372/372 - 66s - loss: 0.6744 - accuracy: 0.7123 - 66s/epoch - 178ms/step\n",
      "93/93 - 2s - loss: 0.7826 - accuracy: 0.6765 - 2s/epoch - 23ms/step\n",
      "186/186 - 43s - loss: 0.8506 - accuracy: 0.6342 - 43s/epoch - 231ms/step\n",
      "47/47 - 3s - loss: 0.7547 - accuracy: 0.6622 - 3s/epoch - 53ms/step\n",
      "186/186 - 46s - loss: 0.8447 - accuracy: 0.6367 - 46s/epoch - 245ms/step\n",
      "47/47 - 1s - loss: 0.7941 - accuracy: 0.6380 - 1s/epoch - 32ms/step\n",
      "186/186 - 47s - loss: 0.8458 - accuracy: 0.6348 - 47s/epoch - 252ms/step\n",
      "47/47 - 2s - loss: 0.7781 - accuracy: 0.6703 - 2s/epoch - 33ms/step\n",
      "186/186 - 44s - loss: 0.8514 - accuracy: 0.6325 - 44s/epoch - 234ms/step\n",
      "47/47 - 1s - loss: 0.7500 - accuracy: 0.6792 - 1s/epoch - 30ms/step\n",
      "186/186 - 46s - loss: 0.8385 - accuracy: 0.6383 - 46s/epoch - 247ms/step\n",
      "47/47 - 2s - loss: 0.7796 - accuracy: 0.6728 - 2s/epoch - 32ms/step\n",
      "Epoch 1/2\n",
      "186/186 - 45s - loss: 0.8544 - accuracy: 0.6301 - 45s/epoch - 240ms/step\n",
      "Epoch 2/2\n",
      "186/186 - 40s - loss: 0.6929 - accuracy: 0.7039 - 40s/epoch - 214ms/step\n",
      "47/47 - 3s - loss: 0.7410 - accuracy: 0.6810 - 3s/epoch - 54ms/step\n",
      "Epoch 1/2\n",
      "186/186 - 47s - loss: 0.8408 - accuracy: 0.6383 - 47s/epoch - 250ms/step\n",
      "Epoch 2/2\n",
      "186/186 - 39s - loss: 0.6927 - accuracy: 0.7088 - 39s/epoch - 209ms/step\n",
      "47/47 - 2s - loss: 0.7608 - accuracy: 0.6826 - 2s/epoch - 51ms/step\n",
      "Epoch 1/2\n",
      "186/186 - 43s - loss: 0.8382 - accuracy: 0.6373 - 43s/epoch - 229ms/step\n",
      "Epoch 2/2\n",
      "186/186 - 41s - loss: 0.6828 - accuracy: 0.7061 - 41s/epoch - 219ms/step\n",
      "47/47 - 2s - loss: 0.7413 - accuracy: 0.6859 - 2s/epoch - 34ms/step\n",
      "Epoch 1/2\n",
      "186/186 - 49s - loss: 0.8462 - accuracy: 0.6319 - 49s/epoch - 264ms/step\n",
      "Epoch 2/2\n",
      "186/186 - 42s - loss: 0.6890 - accuracy: 0.7006 - 42s/epoch - 224ms/step\n",
      "47/47 - 1s - loss: 0.7495 - accuracy: 0.6846 - 1s/epoch - 32ms/step\n",
      "Epoch 1/2\n",
      "186/186 - 43s - loss: 0.8404 - accuracy: 0.6358 - 43s/epoch - 229ms/step\n",
      "Epoch 2/2\n",
      "186/186 - 41s - loss: 0.6790 - accuracy: 0.7089 - 41s/epoch - 218ms/step\n",
      "47/47 - 1s - loss: 0.7673 - accuracy: 0.6668 - 1s/epoch - 31ms/step\n",
      "Epoch 1/2\n",
      "465/465 - 80s - loss: 0.8134 - accuracy: 0.6491 - 80s/epoch - 172ms/step\n",
      "Epoch 2/2\n",
      "465/465 - 83s - loss: 0.6720 - accuracy: 0.7102 - 83s/epoch - 178ms/step\n",
      "Best: 0.682449 using {'batch_size': 20, 'epochs': 2}\n"
     ]
    }
   ],
   "source": [
    "from keras.wrappers.scikit_learn import KerasClassifier #importing Keras classifier\n",
    "from sklearn.model_selection import GridSearchCV #importing Grid search CV\n",
    "\n",
    "model = KerasClassifier(build_fn=createmodel,verbose=2) #initiating model to test performance by applying multiple hyper parameters\n",
    "batch_size= [10, 20, 40] #hyper parameter batch_size\n",
    "epochs = [1, 2] #hyper parameter no. of epochs\n",
    "param_grid= {'batch_size':batch_size, 'epochs':epochs} #creating dictionary for batch size, no. of epochs\n",
    "grid  = GridSearchCV(estimator=model, param_grid=param_grid) #Applying dictionary with hyper parameters\n",
    "grid_result= grid.fit(X_train,Y_train) #Fitting the model\n",
    "# summarize results\n",
    "print(\"Best: %f using %s\" % (grid_result.best_score_, grid_result.best_params_)) #best score, best hyper parameters\n"
   ]
  }
 ],
 "metadata": {
  "colab": {
   "provenance": []
  },
  "kernelspec": {
   "display_name": "Python 3 (ipykernel)",
   "language": "python",
   "name": "python3"
  },
  "language_info": {
   "codemirror_mode": {
    "name": "ipython",
    "version": 3
   },
   "file_extension": ".py",
   "mimetype": "text/x-python",
   "name": "python",
   "nbconvert_exporter": "python",
   "pygments_lexer": "ipython3",
   "version": "3.12.1"
  }
 },
 "nbformat": 4,
 "nbformat_minor": 4
}
