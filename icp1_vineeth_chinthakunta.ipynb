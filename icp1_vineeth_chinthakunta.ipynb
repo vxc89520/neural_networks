{
 "cells": [
  {
   "cell_type": "code",
   "execution_count": 16,
   "id": "fda4e167-eba3-4025-97a8-a867f68efc42",
   "metadata": {},
   "outputs": [],
   "source": [
    "#name Vineeth Chinthakunta"
   ]
  },
  {
   "cell_type": "code",
   "execution_count": null,
   "id": "64634c58-65de-41be-b0bf-ba700fcc5f8c",
   "metadata": {},
   "outputs": [],
   "source": []
  },
  {
   "cell_type": "code",
   "execution_count": null,
   "id": "40097be6-3874-4e2b-a0f5-dd7e059eeb1c",
   "metadata": {},
   "outputs": [],
   "source": [
    " Input the string “Python” as a list of characters from console, delete at least 2 characters, reverse the \n",
    "resultant string and print it. \n",
    "Sample input: \n",
    "• python \n",
    "• Sample output: \n",
    "• ntyp "
   ]
  },
  {
   "cell_type": "code",
   "execution_count": 10,
   "id": "2d8f3ef1-4609-4f88-934c-463093eb807c",
   "metadata": {},
   "outputs": [
    {
     "name": "stdin",
     "output_type": "stream",
     "text": [
      "enter the string python\n"
     ]
    },
    {
     "data": {
      "text/plain": [
       "'nhtp'"
      ]
     },
     "execution_count": 10,
     "metadata": {},
     "output_type": "execute_result"
    }
   ],
   "source": [
    "input_string = input(\"enter the string\")\n",
    "input_list = list(input_string)\n",
    "del input_list[1]\n",
    "del input_list[3]\n",
    "input_string=''.join(input_list)\n",
    "reversed_input = input_string[::-1]\n",
    "reversed_input"
   ]
  },
  {
   "cell_type": "code",
   "execution_count": null,
   "id": "4add0f62-17be-49fc-b0d7-4289f0e7e2fd",
   "metadata": {},
   "outputs": [],
   "source": []
  },
  {
   "cell_type": "code",
   "execution_count": null,
   "id": "5d91e4d3-cbb5-4d6c-bf24-7131f57372b6",
   "metadata": {},
   "outputs": [],
   "source": [
    " Take two numbers from user and perform at least 4 arithmetic operations on them."
   ]
  },
  {
   "cell_type": "code",
   "execution_count": 15,
   "id": "54815bf2-5bdb-4e4f-a963-fe32cac10744",
   "metadata": {},
   "outputs": [
    {
     "name": "stdin",
     "output_type": "stream",
     "text": [
      "Enter your first number : 12\n",
      "Enter your second number : 4\n"
     ]
    },
    {
     "name": "stdout",
     "output_type": "stream",
     "text": [
      "addition of  two numbers  16 \n",
      "multiplication  of two numbers 48\n",
      "subtraction of two numbers 8\n",
      "division of two numbers 3.0\n"
     ]
    }
   ],
   "source": [
    "num1 = int(input('Enter your first number :'))\n",
    "num2 = int(input('Enter your second number :'))\n",
    "print(f'addition of  two numbers  {num1 + num2} ')\n",
    "print(f'multiplication  of two numbers {num1 *  num2}')\n",
    "print(f'subtraction of two numbers {num1 - num2}')\n",
    "print(f'division of two numbers {num1 / num2}')"
   ]
  },
  {
   "cell_type": "code",
   "execution_count": null,
   "id": "e5c7b7d1-4ed4-4fb8-9fb4-49ae0e6debd1",
   "metadata": {},
   "outputs": [],
   "source": []
  },
  {
   "cell_type": "code",
   "execution_count": null,
   "id": "e5592d3d-b0b0-437d-9eb9-b1c01f4c9895",
   "metadata": {},
   "outputs": [],
   "source": [
    "Write a program that accepts a sentence and replace each occurrence of ‘python’ with ‘pythons’. \n",
    "• Sample input: \n",
    "•I love playing with python \n",
    "• Sample output: \n",
    "•I love playing with pythons "
   ]
  },
  {
   "cell_type": "code",
   "execution_count": 12,
   "id": "ee7e2ec4-f10b-455e-9045-cdb9f5934c41",
   "metadata": {},
   "outputs": [
    {
     "name": "stdin",
     "output_type": "stream",
     "text": [
      "Enter your string I love playing with python\n"
     ]
    },
    {
     "name": "stdout",
     "output_type": "stream",
     "text": [
      "I love playing with pythons\n"
     ]
    }
   ],
   "source": [
    "input_string = input('Enter your string')\n",
    "input_string=input_string.replace('python','pythons')\n",
    "print(input_string)"
   ]
  },
  {
   "cell_type": "code",
   "execution_count": null,
   "id": "2c330a71-cc51-439c-932f-d24b6d4a8c8a",
   "metadata": {},
   "outputs": [],
   "source": []
  },
  {
   "cell_type": "code",
   "execution_count": 22,
   "id": "2e3dea9f-e13b-42f8-9a4f-b3b73f5652ca",
   "metadata": {},
   "outputs": [
    {
     "name": "stdin",
     "output_type": "stream",
     "text": [
      "enter your percentage 65\n"
     ]
    },
    {
     "name": "stdout",
     "output_type": "stream",
     "text": [
      "your grade is D\n"
     ]
    }
   ],
   "source": [
    "percent = float(input('enter your percentage'))\n",
    "if percent >= 90.0:\n",
    "    print('your grade is A')\n",
    "elif percent > 80.0 and percent < 90.0:\n",
    "    print('your grade is B')\n",
    "elif percent > 70.0 and percent < 80.0:\n",
    "    print('your grade is C')\n",
    "else:\n",
    "    print('your grade is D')"
   ]
  },
  {
   "cell_type": "code",
   "execution_count": null,
   "id": "d7a6ec49-4292-4f9d-a16a-f4fbfbb50717",
   "metadata": {},
   "outputs": [],
   "source": []
  }
 ],
 "metadata": {
  "kernelspec": {
   "display_name": "Python 3 (ipykernel)",
   "language": "python",
   "name": "python3"
  },
  "language_info": {
   "codemirror_mode": {
    "name": "ipython",
    "version": 3
   },
   "file_extension": ".py",
   "mimetype": "text/x-python",
   "name": "python",
   "nbconvert_exporter": "python",
   "pygments_lexer": "ipython3",
   "version": "3.12.1"
  }
 },
 "nbformat": 4,
 "nbformat_minor": 5
}
