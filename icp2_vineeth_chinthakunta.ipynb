{
 "cells": [
  {
   "cell_type": "code",
   "execution_count": null,
   "id": "373d499a-0715-4ad2-b7a0-b475f627e2c6",
   "metadata": {},
   "outputs": [],
   "source": [
    "Name Vineeth Chinthakunta\n",
    "700# 700758952"
   ]
  },
  {
   "cell_type": "code",
   "execution_count": null,
   "id": "9c4a92b5-a7a9-405e-ac8a-5d41faa02763",
   "metadata": {},
   "outputs": [],
   "source": []
  },
  {
   "cell_type": "code",
   "execution_count": null,
   "id": "9ac8209d-6a74-4794-8281-bcab606f0578",
   "metadata": {},
   "outputs": [],
   "source": [
    "Write a program that takes two strings from the user: first_name, last_name. Pass these variables to \n",
    "fullname function that should return the (full name). \n",
    "o For example: \n",
    "▪ First_name = “your first name”, last_name = “your last name” \n",
    "▪ Full_name = “your full name” \n",
    "o Write function named “string_alternative” that returns every other char in the full_name string. \n",
    "Str = “Good evening” \n",
    "Output: Go vnn \n",
    "Note: You need to create a function named “string_alternative” for this program and call it from \n",
    "main function."
   ]
  },
  {
   "cell_type": "code",
   "execution_count": 12,
   "id": "24d49740-f25c-4658-bcc8-cc176c1f84c8",
   "metadata": {},
   "outputs": [
    {
     "name": "stdin",
     "output_type": "stream",
     "text": [
      "enter first name :  good\n",
      "enter last name :  morning\n"
     ]
    },
    {
     "name": "stdout",
     "output_type": "stream",
     "text": [
      "Full name is   good morning\n",
      "Alternate String is   go onn\n"
     ]
    }
   ],
   "source": [
    "\n",
    "first_name= input(\"enter first name : \")\n",
    "\n",
    "last_name= input(\"enter last name : \")\n",
    "\n",
    "def full_name(first_name,last_name):\n",
    "    return f\"{first_name} {last_name}\"\n",
    "    \n",
    "def string_alternative(full_name):\n",
    "    alternate_str = \"\"\n",
    "    for index in range(0,len(full_name),2):\n",
    "        alternate_str+=full_name[index]        \n",
    "    return alternate_str               \n",
    "\n",
    "\n",
    "print(\"Full name is  \",full_name(first_name,last_name))\n",
    "\n",
    "print(\"Alternate String is  \",string_alternative(full_name(first_name,last_name)))"
   ]
  },
  {
   "cell_type": "code",
   "execution_count": null,
   "id": "ccfdbcb5-c02e-49b7-b186-88fba89f6fa7",
   "metadata": {},
   "outputs": [],
   "source": [
    "Write a python program to find the wordcount in a file (input.txt) for each line and then print the output. \n",
    "o Finally store the output in output.txt file. \n",
    "Example: \n",
    "Input: a file includes two lines: \n",
    "Python Course \n",
    "Deep Learning Course \n",
    "Output: \n",
    "Python Course \n",
    "Deep Learning Course \n",
    "Word_Count: \n",
    "Python: 1 \n",
    "Course: 2 \n",
    "Deep: 1 \n",
    "Learning: 1 "
   ]
  },
  {
   "cell_type": "code",
   "execution_count": 13,
   "id": "2c50e49c-68a1-4f22-b158-b604eac1764a",
   "metadata": {},
   "outputs": [],
   "source": [
    "\n",
    "Input_file = open(\"input.txt\", \"r\")\n",
    "\n",
    "output_file = open(\"output.txt\", \"w\")\n",
    "\n",
    "content = {}\n",
    "\n",
    "\n",
    "for line in Input_file:\n",
    "    output_file.write(line)\n",
    "    new_l = line.split()\n",
    "    for x in new_l:\n",
    "        if(content.get(x)==None):\n",
    "            content[x]=1\n",
    "        else:\n",
    "            content[x] = content[x] + 1\n",
    "            \n",
    "output_file.write(\" Word_Count : \")\n",
    "for key, value in content.items(): \n",
    "        output_file.write('%s:%s\\n' % (key, value))\n",
    "\n",
    "Input_file.close()\n",
    "output_file.close()"
   ]
  },
  {
   "cell_type": "code",
   "execution_count": null,
   "id": "c81db35e-5169-48ff-bff1-eb3ec4c406a0",
   "metadata": {},
   "outputs": [],
   "source": []
  },
  {
   "cell_type": "code",
   "execution_count": null,
   "id": "fdbe4c74-7c10-4db1-a55e-df33f0003bf6",
   "metadata": {},
   "outputs": [],
   "source": [
    ". Write a program, which reads heights (inches.) of customers into a list and convert these \n",
    "heights to centimeters in a separate list using: \n",
    "1) Nested Interactive loop. \n",
    "2) List comprehensions \n",
    "Example: \n",
    "L1: [150,155,145,148] \n",
    "Output: [68.03, 70.3, 65.77, 67.13] "
   ]
  },
  {
   "cell_type": "code",
   "execution_count": 14,
   "id": "13758f40-8704-4fe0-aebf-3bc90f62f0cd",
   "metadata": {},
   "outputs": [
    {
     "name": "stdin",
     "output_type": "stream",
     "text": [
      "Enter the list of heights 150,155,145,148\n"
     ]
    },
    {
     "data": {
      "text/plain": [
       "[381.0, 393.7, 368.3, 375.92]"
      ]
     },
     "execution_count": 14,
     "metadata": {},
     "output_type": "execute_result"
    }
   ],
   "source": [
    "height = input('Enter the list of heights')\n",
    "\n",
    "height_inches = list(map(int, height.split(',')))\n",
    "\n",
    "height_cms = [ht*2.54 for ht in height_inches]\n",
    "\n",
    "height_cms"
   ]
  }
 ],
 "metadata": {
  "kernelspec": {
   "display_name": "Python 3 (ipykernel)",
   "language": "python",
   "name": "python3"
  },
  "language_info": {
   "codemirror_mode": {
    "name": "ipython",
    "version": 3
   },
   "file_extension": ".py",
   "mimetype": "text/x-python",
   "name": "python",
   "nbconvert_exporter": "python",
   "pygments_lexer": "ipython3",
   "version": "3.12.1"
  }
 },
 "nbformat": 4,
 "nbformat_minor": 5
}
